{
  "nbformat": 4,
  "nbformat_minor": 0,
  "metadata": {
    "colab": {
      "name": "Linear Regression (Unsupervised Machine Learning).ipynb",
      "provenance": [],
      "collapsed_sections": [],
      "authorship_tag": "ABX9TyO9bsI9Wb4WPQLwqyDGc9vK",
      "include_colab_link": true
    },
    "kernelspec": {
      "name": "python3",
      "display_name": "Python 3"
    },
    "accelerator": "GPU"
  },
  "cells": [
    {
      "cell_type": "markdown",
      "metadata": {
        "id": "view-in-github",
        "colab_type": "text"
      },
      "source": [
        "<a href=\"https://colab.research.google.com/github/Bastinjob/helloworld/blob/master/Linear_Regression_(Unsupervised_Machine_Learning).ipynb\" target=\"_parent\"><img src=\"https://colab.research.google.com/assets/colab-badge.svg\" alt=\"Open In Colab\"/></a>"
      ]
    },
    {
      "cell_type": "markdown",
      "metadata": {
        "id": "kBaUS02Ymn4v"
      },
      "source": [
        "NAME : BASTIN BAJIYO JOB\n",
        "\n",
        "EMAIL : bastinjob1998@gmail.com"
      ]
    },
    {
      "cell_type": "markdown",
      "metadata": {
        "id": "m4LpDWlolYYD"
      },
      "source": [
        "## PREDICTION USING UNSUPERVISED MACHINE LEARNING"
      ]
    },
    {
      "cell_type": "markdown",
      "metadata": {
        "id": "4lXQ1jQpnvLH"
      },
      "source": [
        "### Introduction"
      ]
    },
    {
      "cell_type": "markdown",
      "metadata": {
        "id": "4adO_jvon57Y"
      },
      "source": [
        "In this programming task, we are going to predict the grades of a student with respect to the number of hours studied, using Unsupervised Machine Learning technique.\n",
        "\n",
        "This is a simple **Linear Regression** problem, since it invloves only two variables.\n",
        "\n",
        "\n",
        "Programming Language : **Python**\n",
        "\n",
        "\n",
        "Machine-Learning Library : **SciKit-Learn**"
      ]
    },
    {
      "cell_type": "code",
      "metadata": {
        "id": "EYZXYIbxlNvV"
      },
      "source": [
        "# Importing the necessary Libraries\n",
        "\n",
        "import numpy as np\n",
        "import pandas as pd\n",
        "import matplotlib.pyplot as plt\n"
      ],
      "execution_count": 7,
      "outputs": []
    },
    {
      "cell_type": "code",
      "metadata": {
        "colab": {
          "base_uri": "https://localhost:8080/",
          "height": 224
        },
        "id": "p3R0nDcPldsT",
        "outputId": "cafe5d1b-c2f0-4641-c1e0-1f4f9977094b"
      },
      "source": [
        "# Acquiring the Data\n",
        "\n",
        "data_url = 'http://bit.ly/w-data'\n",
        "\n",
        "data = pd.read_csv(data_url)\n",
        "print('Data Acquisition Successful')\n",
        "\n",
        "#Viewing the Data \n",
        "data.head()"
      ],
      "execution_count": 10,
      "outputs": [
        {
          "output_type": "stream",
          "text": [
            "Data Acquisition Successful\n"
          ],
          "name": "stdout"
        },
        {
          "output_type": "execute_result",
          "data": {
            "text/html": [
              "<div>\n",
              "<style scoped>\n",
              "    .dataframe tbody tr th:only-of-type {\n",
              "        vertical-align: middle;\n",
              "    }\n",
              "\n",
              "    .dataframe tbody tr th {\n",
              "        vertical-align: top;\n",
              "    }\n",
              "\n",
              "    .dataframe thead th {\n",
              "        text-align: right;\n",
              "    }\n",
              "</style>\n",
              "<table border=\"1\" class=\"dataframe\">\n",
              "  <thead>\n",
              "    <tr style=\"text-align: right;\">\n",
              "      <th></th>\n",
              "      <th>Hours</th>\n",
              "      <th>Scores</th>\n",
              "    </tr>\n",
              "  </thead>\n",
              "  <tbody>\n",
              "    <tr>\n",
              "      <th>0</th>\n",
              "      <td>2.5</td>\n",
              "      <td>21</td>\n",
              "    </tr>\n",
              "    <tr>\n",
              "      <th>1</th>\n",
              "      <td>5.1</td>\n",
              "      <td>47</td>\n",
              "    </tr>\n",
              "    <tr>\n",
              "      <th>2</th>\n",
              "      <td>3.2</td>\n",
              "      <td>27</td>\n",
              "    </tr>\n",
              "    <tr>\n",
              "      <th>3</th>\n",
              "      <td>8.5</td>\n",
              "      <td>75</td>\n",
              "    </tr>\n",
              "    <tr>\n",
              "      <th>4</th>\n",
              "      <td>3.5</td>\n",
              "      <td>30</td>\n",
              "    </tr>\n",
              "  </tbody>\n",
              "</table>\n",
              "</div>"
            ],
            "text/plain": [
              "   Hours  Scores\n",
              "0    2.5      21\n",
              "1    5.1      47\n",
              "2    3.2      27\n",
              "3    8.5      75\n",
              "4    3.5      30"
            ]
          },
          "metadata": {
            "tags": []
          },
          "execution_count": 10
        }
      ]
    },
    {
      "cell_type": "markdown",
      "metadata": {
        "id": "aRoqHSoEsMSU"
      },
      "source": [
        "### Preliminary Data Analysis :\n",
        "We now visuaize the data and try to acquire some insight on the reltionship betlween the variables, manually."
      ]
    },
    {
      "cell_type": "code",
      "metadata": {
        "colab": {
          "base_uri": "https://localhost:8080/",
          "height": 313
        },
        "id": "HOR_fEh7rJaM",
        "outputId": "6fc07c71-d1b4-47b2-d5ef-feec5fee3e4b"
      },
      "source": [
        "data.plot(x = 'Hours',y = 'Scores',style = 'o')\n",
        "plt.title('Study-Hours v/s Score')\n",
        "plt.xlabel('Hours Studied')\n",
        "plt.ylabel('Score')"
      ],
      "execution_count": 11,
      "outputs": [
        {
          "output_type": "execute_result",
          "data": {
            "text/plain": [
              "Text(0, 0.5, 'Score')"
            ]
          },
          "metadata": {
            "tags": []
          },
          "execution_count": 11
        },
        {
          "output_type": "display_data",
          "data": {
            "image/png": "[encoded data removed]",
            "text/plain": [
              "<Figure size 432x288 with 1 Axes>"
            ]
          },
          "metadata": {
            "tags": [],
            "needs_background": "light"
          }
        }
      ]
    },
    {
      "cell_type": "markdown",
      "metadata": {
        "id": "CgKMoFQxtV3Y"
      },
      "source": [
        "As we can see, the relationship between the two variables is roughly **linear**."
      ]
    },
    {
      "cell_type": "markdown",
      "metadata": {
        "id": "mH192eFGtm_M"
      },
      "source": [
        "### Data Pre-Processing\n",
        "\n",
        "Here we have two tasks :\n",
        "\n",
        "(i)Arranging the Dataset into Input(attributes) and Output(label) \n",
        "\n",
        "(ii)Splitting the arranged data into training and testing sets"
      ]
    },
    {
      "cell_type": "code",
      "metadata": {
        "id": "Moz3P32urY3U"
      },
      "source": [
        "#Arranging the Data into attributes and labels\n",
        "\n",
        "X = data.iloc[:,:-1].values\n",
        "Y = data.iloc[:,-1].values\n"
      ],
      "execution_count": 24,
      "outputs": []
    },
    {
      "cell_type": "code",
      "metadata": {
        "id": "r4gGDJS6ulWM"
      },
      "source": [
        "#Train-Test Split\n",
        "\n",
        "from sklearn.model_selection import train_test_split\n",
        "\n",
        "X_train,X_test,Y_train,Y_test = train_test_split(X,Y,test_size = 0.25,random_state = 0)"
      ],
      "execution_count": 25,
      "outputs": []
    },
    {
      "cell_type": "markdown",
      "metadata": {
        "id": "2Cdb7mLYwNYT"
      },
      "source": [
        "### Training the Model"
      ]
    },
    {
      "cell_type": "code",
      "metadata": {
        "colab": {
          "base_uri": "https://localhost:8080/"
        },
        "id": "Tyasti5_vCT-",
        "outputId": "3d84c3f2-e28b-45f5-9eeb-9ca81cd0cc44"
      },
      "source": [
        "#Import and Initialise the necessary Model\n",
        "\n",
        "from sklearn.linear_model import LinearRegression\n",
        "regressor = LinearRegression()\n",
        "\n",
        "#Train in the Model with the dataset\n",
        "\n",
        "regressor.fit(X_train,Y_train)\n",
        "\n",
        "print('Training Successful')"
      ],
      "execution_count": 26,
      "outputs": [
        {
          "output_type": "stream",
          "text": [
            "Training Successful\n"
          ],
          "name": "stdout"
        }
      ]
    },
    {
      "cell_type": "markdown",
      "metadata": {
        "id": "nQk4TgVixpi2"
      },
      "source": [
        "### Testing the Model\n",
        "\n",
        "Now that we have trained the Linear Regression Model, it is time to test it using the Test set."
      ]
    },
    {
      "cell_type": "code",
      "metadata": {
        "colab": {
          "base_uri": "https://localhost:8080/",
          "height": 206
        },
        "id": "8ko2N4JAxCWh",
        "outputId": "97cfd144-881d-45ac-ac07-f714ed975d15"
      },
      "source": [
        "#Making Predictions\n",
        "prediction = regressor.predict(X_test)\n",
        "\n",
        "comparison = pd.DataFrame({'Actual' :Y_test, 'Predicted':prediction })\n",
        "comparison.head()"
      ],
      "execution_count": 27,
      "outputs": [
        {
          "output_type": "execute_result",
          "data": {
            "text/html": [
              "<div>\n",
              "<style scoped>\n",
              "    .dataframe tbody tr th:only-of-type {\n",
              "        vertical-align: middle;\n",
              "    }\n",
              "\n",
              "    .dataframe tbody tr th {\n",
              "        vertical-align: top;\n",
              "    }\n",
              "\n",
              "    .dataframe thead th {\n",
              "        text-align: right;\n",
              "    }\n",
              "</style>\n",
              "<table border=\"1\" class=\"dataframe\">\n",
              "  <thead>\n",
              "    <tr style=\"text-align: right;\">\n",
              "      <th></th>\n",
              "      <th>Actual</th>\n",
              "      <th>Predicted</th>\n",
              "    </tr>\n",
              "  </thead>\n",
              "  <tbody>\n",
              "    <tr>\n",
              "      <th>0</th>\n",
              "      <td>20</td>\n",
              "      <td>16.844722</td>\n",
              "    </tr>\n",
              "    <tr>\n",
              "      <th>1</th>\n",
              "      <td>27</td>\n",
              "      <td>33.745575</td>\n",
              "    </tr>\n",
              "    <tr>\n",
              "      <th>2</th>\n",
              "      <td>69</td>\n",
              "      <td>75.500624</td>\n",
              "    </tr>\n",
              "    <tr>\n",
              "      <th>3</th>\n",
              "      <td>30</td>\n",
              "      <td>26.786400</td>\n",
              "    </tr>\n",
              "    <tr>\n",
              "      <th>4</th>\n",
              "      <td>62</td>\n",
              "      <td>60.588106</td>\n",
              "    </tr>\n",
              "  </tbody>\n",
              "</table>\n",
              "</div>"
            ],
            "text/plain": [
              "   Actual  Predicted\n",
              "0      20  16.844722\n",
              "1      27  33.745575\n",
              "2      69  75.500624\n",
              "3      30  26.786400\n",
              "4      62  60.588106"
            ]
          },
          "metadata": {
            "tags": []
          },
          "execution_count": 27
        }
      ]
    },
    {
      "cell_type": "markdown",
      "metadata": {
        "id": "QWWsuB8MzqPQ"
      },
      "source": [
        "### Evaluating the Model\n",
        "\n",
        "We use **Mean Absolute Error** as the evaluation Metric. Mean absolute error is average vale of the absolute error between to data points."
      ]
    },
    {
      "cell_type": "code",
      "metadata": {
        "colab": {
          "base_uri": "https://localhost:8080/"
        },
        "id": "mz1TPJkSzjUj",
        "outputId": "ce01e5d1-af95-4fc8-c69b-8a3f6c3bab3f"
      },
      "source": [
        "from sklearn.metrics import mean_absolute_error\n",
        "\n",
        "MAE = mean_absolute_error(Y_test,prediction)\n",
        "print(\"Mean Absolute Error : {}\".format(MAE))"
      ],
      "execution_count": 28,
      "outputs": [
        {
          "output_type": "stream",
          "text": [
            "Mean Absolute Error : 4.130879918502482\n"
          ],
          "name": "stdout"
        }
      ]
    },
    {
      "cell_type": "markdown",
      "metadata": {
        "id": "7Ts41dSz0U_2"
      },
      "source": [
        "### Fitting the Regression Line \n"
      ]
    },
    {
      "cell_type": "code",
      "metadata": {
        "colab": {
          "base_uri": "https://localhost:8080/",
          "height": 295
        },
        "id": "P1icxcmt0PZo",
        "outputId": "3257f031-f79a-4044-a8ef-af4ee00b7714"
      },
      "source": [
        "# Equation of the line is of the form y = m*x+ b\n",
        "slope = regressor.coef_\n",
        "intercept = regressor.intercept_\n",
        "\n",
        "line = slope*X + intercept\n",
        "\n",
        "plt.scatter(X,Y)\n",
        "plt.plot(X,line)\n",
        "plt.title('Best Fitting Regression Line')\n",
        "plt.xlabel('Hours Studied')\n",
        "plt.ylabel('Score')\n",
        "plt.show()"
      ],
      "execution_count": 39,
      "outputs": [
        {
          "output_type": "display_data",
          "data": {
            "image/png": "[encoded data removed]",
            "text/plain": [
              "<Figure size 432x288 with 1 Axes>"
            ]
          },
          "metadata": {
            "tags": [],
            "needs_background": "light"
          }
        }
      ]
    },
    {
      "cell_type": "markdown",
      "metadata": {
        "id": "mXcDCP2V1oOf"
      },
      "source": [
        "### Testing with a new Sample Data\n",
        "\n",
        "Finally we test out the moel with a new input of our own. Here we look for a predicted score that astuednt will get, if he studies for **9.25** Hours"
      ]
    },
    {
      "cell_type": "code",
      "metadata": {
        "colab": {
          "base_uri": "https://localhost:8080/"
        },
        "id": "uhABw2dY09qk",
        "outputId": "1ca0e3fd-cbfe-4b4c-f22c-cdb337a09008"
      },
      "source": [
        "score = regressor.predict([[9.25]])\n",
        "\n",
        "print('Predicted Score for a Study time of 9.25 Hours : {}'.format(score[0]))"
      ],
      "execution_count": 38,
      "outputs": [
        {
          "output_type": "stream",
          "text": [
            "Predicted Score for a Study time of 9.25 Hours : 93.89272889341652\n"
          ],
          "name": "stdout"
        }
      ]
    }
  ]
}